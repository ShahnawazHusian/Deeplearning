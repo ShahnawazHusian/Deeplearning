{
 "cells": [
  {
   "cell_type": "code",
   "execution_count": 1,
   "id": "17dadcf0",
   "metadata": {},
   "outputs": [],
   "source": [
    "from keras.models import Sequential\n",
    "from keras.layers import Conv2D\n",
    "from keras.layers import MaxPooling2D\n",
    "from keras.layers import Flatten\n",
    "from keras.layers import Dense"
   ]
  },
  {
   "cell_type": "code",
   "execution_count": 2,
   "id": "451635fa",
   "metadata": {},
   "outputs": [],
   "source": [
    "import tensorflow\n",
    "import warnings\n",
    "warnings.filterwarnings('ignore')"
   ]
  },
  {
   "cell_type": "code",
   "execution_count": 3,
   "id": "41a30dda",
   "metadata": {},
   "outputs": [],
   "source": [
    "classifier = Sequential()\n",
    "\n",
    "classifier.add(Conv2D(32,(3,3),input_shape = (64,64,3),activation = 'relu'))\n",
    "\n",
    "classifier.add(MaxPooling2D(pool_size = (2,2)))\n",
    "\n",
    "classifier.add(Conv2D(32,(3,3),activation = 'relu'))\n",
    "\n",
    "classifier.add(MaxPooling2D(pool_size = (2,2)))\n",
    "\n",
    "classifier.add(Flatten())\n",
    "\n",
    "classifier.add(Dense(units = 32,activation = 'relu'))\n",
    "classifier.add(Dense(units = 64,activation = 'relu'))\n",
    "classifier.add(Dense(units = 128,activation = 'relu'))\n",
    "classifier.add(Dense(units = 256,activation = 'relu'))\n",
    "classifier.add(Dense(units = 256,activation = 'relu'))\n",
    "classifier.add(Dense(units = 5,activation = 'softmax'))\n",
    "\n",
    "\n",
    "classifier.compile(optimizer = 'Adam',loss = 'categorical_crossentropy',metrics = ['accuracy'])\n"
   ]
  },
  {
   "cell_type": "code",
   "execution_count": null,
   "id": "4d914267",
   "metadata": {},
   "outputs": [
    {
     "name": "stdout",
     "output_type": "stream",
     "text": [
      "Found 9700 images belonging to 5 classes.\n",
      "Found 100 images belonging to 5 classes.\n",
      "Epoch 1/50\n",
      "\u001b[1m809/809\u001b[0m \u001b[32m━━━━━━━━━━━━━━━━━━━━\u001b[0m\u001b[37m\u001b[0m \u001b[1m97s\u001b[0m 109ms/step - accuracy: 0.3062 - loss: 1.4754 - val_accuracy: 0.3900 - val_loss: 1.1959\n",
      "Epoch 2/50\n",
      "\u001b[1m809/809\u001b[0m \u001b[32m━━━━━━━━━━━━━━━━━━━━\u001b[0m\u001b[37m\u001b[0m \u001b[1m73s\u001b[0m 89ms/step - accuracy: 0.4821 - loss: 1.1954 - val_accuracy: 0.5200 - val_loss: 1.0983\n",
      "Epoch 3/50\n",
      "\u001b[1m809/809\u001b[0m \u001b[32m━━━━━━━━━━━━━━━━━━━━\u001b[0m\u001b[37m\u001b[0m \u001b[1m82s\u001b[0m 101ms/step - accuracy: 0.5376 - loss: 1.1102 - val_accuracy: 0.5800 - val_loss: 1.0262\n",
      "Epoch 4/50\n",
      "\u001b[1m582/809\u001b[0m \u001b[32m━━━━━━━━━━━━━━\u001b[0m\u001b[37m━━━━━━\u001b[0m \u001b[1m22s\u001b[0m 101ms/step - accuracy: 0.5655 - loss: 1.0467"
     ]
    }
   ],
   "source": [
    "from tensorflow.keras.preprocessing.image import ImageDataGenerator\n",
    "\n",
    "train_datagen = ImageDataGenerator(rescale = 1./255,\n",
    "                                  shear_range = 0.2,\n",
    "                                  zoom_range = 0.2,\n",
    "                                  horizontal_flip = True)\n",
    "test_datagen = ImageDataGenerator(rescale = 1./255)\n",
    "\n",
    "\n",
    "training_data_path = \"C:/deep learning dataset/archive (11)/Fruits Classification/train\"\n",
    "test_data_path = \"C:/deep learning dataset/archive (11)/Fruits Classification/test\"\n",
    "\n",
    "training_set = train_datagen.flow_from_directory(training_data_path,\n",
    "                                                target_size = (64,64),\n",
    "                                                batch_size = 12,\n",
    "                                                class_mode = 'categorical')\n",
    "test_set = train_datagen.flow_from_directory(test_data_path,\n",
    "                                                target_size = (64,64),\n",
    "                                                batch_size = 12,\n",
    "                                                class_mode = 'categorical')\n",
    "history = classifier.fit(training_set,\n",
    "                            epochs = 50,\n",
    "                            verbose = 1,\n",
    "                            validation_data = test_set,\n",
    "                            )"
   ]
  },
  {
   "cell_type": "code",
   "execution_count": 3,
   "id": "f0db4b6b",
   "metadata": {},
   "outputs": [],
   "source": [
    "classifier.save('model/model_last.h5')"
   ]
  },
  {
   "cell_type": "code",
   "execution_count": null,
   "id": "40104eb2",
   "metadata": {},
   "outputs": [],
   "source": [
    "import warnings \n",
    "warnings.filterwarnings('ignore')"
   ]
  },
  {
   "cell_type": "code",
   "execution_count": null,
   "id": "db2067c2",
   "metadata": {},
   "outputs": [],
   "source": [
    "classes = ['Apple','Banana','Grape','Mango','Strwaberry']"
   ]
  },
  {
   "cell_type": "code",
   "execution_count": null,
   "id": "8b87466c",
   "metadata": {},
   "outputs": [],
   "source": [
    "\n",
    "\n",
    "from tensorflow.keras.preprocessing import image\n",
    "from tensorflow.keras.models import load_model\n",
    "\n",
    "from tensorflow.keras.preprocessing.image import ImageDataGenerator\n",
    "\n",
    "train_datagen = ImageDataGenerator(rescale = 1./255,\n",
    "                                  shear_range = 0.2,\n",
    "                                  zoom_range = 0.2,\n",
    "                                  horizontal_flip = True)\n",
    "test_datagen = ImageDataGenerator(rescale = 1./255)\n",
    "\n",
    "\n",
    "training_data_path = \"C:/deep learning dataset/archive (11)/Fruits Classification/train\"\n",
    "test_data_path = \"C:/deep learning dataset/archive (11)/Fruits Classification/test\"\n",
    "\n",
    "training_set = train_datagen.flow_from_directory(training_data_path,\n",
    "                                                target_size = (64,64),\n",
    "                                                batch_size = 12,\n",
    "                                                class_mode = 'categorical')\n",
    "test_set = train_datagen.flow_from_directory(test_data_path,\n",
    "                                                target_size = (64,64),\n",
    "                                                batch_size = 12,\n",
    "                                                class_mode = 'categorical')\n",
    "new_model  = load_model('model/model_last.h5')\n",
    "new_model.compile(optimizer = 'Adam',loss = 'categorical_crossentropy',metrics = ['accuracy'])\n",
    "new_model.fit(training_set,\n",
    "                            epochs = 1,\n",
    "                            verbose = 1,\n",
    "                            validation_data = test_set,\n",
    "                            )"
   ]
  },
  {
   "cell_type": "code",
   "execution_count": null,
   "id": "a8346562",
   "metadata": {},
   "outputs": [],
   "source": [
    "import numpy as np\n",
    "from tensorflow.keras.preprocessing import image\n",
    "from tensorflow.keras.models import load_model\n",
    "new_model  = load_model('model/model_last.h5')\n",
    "new_model.summary()\n",
    "\n",
    "test_image = image.load_img(\"C:/deep learning dataset/archive (11)/Fruits Classification/train/Banana/Banana (1).jpeg\",target_size = (64,64))\n",
    "test_image = image.img_to_array(test_image)\n",
    "test_image = np.expand_dims(test_image,axis = 0)\n",
    "result = new_model.predict(test_image)\n",
    "result1 = result[0]\n",
    "for i in range(6):\n",
    "    if result1[i] == 1:\n",
    "        break\n",
    "prediction = classes[i]\n",
    "print(prediction)"
   ]
  },
  {
   "cell_type": "code",
   "execution_count": null,
   "id": "cd0f54bf",
   "metadata": {},
   "outputs": [],
   "source": [
    "def decode_predictions(result, top=1):\n",
    "  predictions = result.argsort()[:, ::-1][:top]\n",
    "  return predictions"
   ]
  },
  {
   "cell_type": "code",
   "execution_count": null,
   "id": "325b348f",
   "metadata": {},
   "outputs": [],
   "source": [
    "decode_predictions(result,top = 1)[0]"
   ]
  },
  {
   "cell_type": "code",
   "execution_count": null,
   "id": "9e0f6460",
   "metadata": {},
   "outputs": [],
   "source": [
    "result.argsort()[:,::-1][:10]"
   ]
  },
  {
   "cell_type": "code",
   "execution_count": null,
   "id": "c31b1b1b",
   "metadata": {},
   "outputs": [],
   "source": [
    "Cnn_classifier.summary()"
   ]
  }
 ],
 "metadata": {
  "kernelspec": {
   "display_name": "Python 3 (ipykernel)",
   "language": "python",
   "name": "python3"
  },
  "language_info": {
   "codemirror_mode": {
    "name": "ipython",
    "version": 3
   },
   "file_extension": ".py",
   "mimetype": "text/x-python",
   "name": "python",
   "nbconvert_exporter": "python",
   "pygments_lexer": "ipython3",
   "version": "3.11.8"
  }
 },
 "nbformat": 4,
 "nbformat_minor": 5
}
